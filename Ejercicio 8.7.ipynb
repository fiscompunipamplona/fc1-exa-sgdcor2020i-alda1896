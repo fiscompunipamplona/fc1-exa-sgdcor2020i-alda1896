{
 "cells": [
  {
   "cell_type": "markdown",
   "metadata": {},
   "source": [
    "**Trayectoria con resistencia al aire**\n",
    "\n",
    "Ecuación de la fuerza:\n",
    "\n",
    "\\begin{equation}\n",
    "F=\\frac{1}{2}\\pi R^{2}\\rho Cv^{2}\n",
    "\\end{equation}\n",
    "\n",
    "\\begin{equation}\n",
    "R \\equiv Radio \\ de \\ la \\ esfera\n",
    "\\end{equation}\n",
    "\n",
    "\\begin{equation}\n",
    "\\rho \\equiv \\ Densidad \\ del \\ aire\n",
    "\\end{equation}\n",
    "\n",
    "\\begin{equation}\n",
    "C \\equiv \\ Coeficiente \\ de \\ arrastre\n",
    "\\end{equation}\n",
    "\n",
    "\\begin{equation}\n",
    "v \\equiv \\ Velocidad \\ de \\ la \\ bala\n",
    "\\end{equation}\n",
    "\n",
    "De la segunda ley de Newton tenemos:\n",
    "\n",
    "\\begin{equation}\n",
    "m\\vec{a}=\\sum \\vec{F}\n",
    "\\end{equation}\n",
    "\n",
    "la Fuerza se opone a la velocidad, por tanto el vector F tendra una dirección tangente a la trayectoria y opuesta a la del vector velocidad:\n",
    "\n",
    "\\begin{equation}\n",
    "\\vec{F}=-\\frac{F}{v}\\vec{v}\n",
    "\\end{equation}\n",
    "\n",
    "Asi podemos ecribir la segunda ley de Newton para luego despejar las compoenentes de la aceleracion en x e y:\n",
    "\n",
    "\\begin{equation}\n",
    "ma_{x}=F_{x}= -\\frac{1}{2}\\pi R^{2}\\rho Cv v_{x}\n",
    "\\end{equation}\n",
    "\n",
    "\\begin{equation}\n",
    "ma_{y}=-mg-F_{y}= -mg -\\frac{1}{2}\\pi R^{2}\\rho Cv v_{y}\n",
    "\\end{equation}\n",
    "\n",
    "Usando la notacion de Newton:\n",
    "\n",
    "\\begin{equation}\n",
    "v_{x}=\\dot{x}\n",
    "\\end{equation}\n",
    "\n",
    "\\begin{equation}\n",
    "v_{y}=\\dot{y}\n",
    "\\end{equation}\n",
    "\n",
    "\\begin{equation}\n",
    "a_{x}=\\ddot{x}\n",
    "\\end{equation}\n",
    "\n",
    "\\begin{equation}\n",
    "a_{y}=\\ddot{y}\n",
    "\\end{equation}\n",
    "\n",
    "con lo anterior ademas, podemos escribir las dos ecuaciones de segundo orden como cuatro ecuaciones de primer orden para usar el método de Runge-kutta \n",
    "\n",
    "teniendo encuenta ademas la magnitud de la velocidad:\n",
    "\n",
    "\\begin{equation}\n",
    "v=\\sqrt[]{\\dot{x}^{2}+\\dot{y}^{2}}\n",
    "\\end{equation}\n",
    "\n",
    "Fianalmente remplazado optenemos las ecuaciones de movimiento:\n",
    "\n",
    "\\begin{equation}\n",
    "\\ddot{x}= -\\frac{\\pi R^{2}\\rho C\\dot{x}}{2m}\\sqrt[]{\\dot{x}^{2}+\\dot{y}^{2}}\n",
    "\\end{equation}\n",
    "\n",
    "\\begin{equation}\n",
    "\\ddot{y}= -g-\\frac{\\pi R^{2}\\rho C\\dot{y}}{2m}\\sqrt[]{\\dot{x}^{2}+\\dot{y}^{2}}\n",
    "\\end{equation}\n",
    "\n",
    "\n"
   ]
  },
  {
   "cell_type": "code",
   "execution_count": 1,
   "metadata": {},
   "outputs": [],
   "source": [
    "from math import sin,pi,cos,sqrt\n",
    "from numpy import array,arange\n",
    "from pylab import plot, xlabel,ylabel, show,legend,grid,title"
   ]
  },
  {
   "cell_type": "code",
   "execution_count": 2,
   "metadata": {},
   "outputs": [],
   "source": [
    "#constantes\n",
    "m= 1 #kg\n",
    "rho = 1.22 #kg/m^3\n",
    "R = 0.08 #m\n",
    "C = 0.47\n",
    "g = 9.8 #m/s^2\n",
    "\n",
    "#La función recibe como parámetros un arreglo A que contiene los valores iniciales de las velocidades y las posiciones y la masa de la bala \n",
    "# además recibe el parámetro temporal, retorna en cada paso un arreglo con el valor siguiente de velocidades y aceleraciones \n",
    "def f(A,t,m): \n",
    "    x = A[0]\n",
    "    vx = A[1]\n",
    "    y = A[2]\n",
    "    vy = A[3]\n",
    "    fvx = -pi*(R**2)*rho*C*vy*sqrt(vx**2 + vy**2)/2*m\n",
    "    fvy = -g-pi*(R**2)*rho*C*vy*sqrt(vx**2 + vy**2)/2*m\n",
    "    return array ([vx,fvx,vy,fvy],float)"
   ]
  },
  {
   "cell_type": "markdown",
   "metadata": {},
   "source": [
    "El tiempo de vuelo para un tiro parabólico ideal sigue la ecuación:\n",
    "\n",
    "\\begin{equation}\n",
    "t=\\frac{2v_{0}sen\\theta }{g}\n",
    "\\end{equation}\n",
    "\n",
    "Teniendo en cuenta nuestros valores iniciales\n",
    "\n",
    "\\begin{equation}\n",
    "t=\\frac{2*100sen(30)}{9.8}\n",
    "\\end{equation}\n",
    "\n",
    "\\begin{equation}\n",
    "t=10.2 s\n",
    "\\end{equation}\n",
    "\n",
    "Podemos usar este tiempo para observar cómo cambia el alcance  teniendo en cuenta el coeficiente de arrastre"
   ]
  },
  {
   "cell_type": "code",
   "execution_count": 3,
   "metadata": {},
   "outputs": [],
   "source": [
    "def funcion(m):   # definimos un función que resuelve la ecuacion diferencial para diferentes masas por eso resive a m como parametro\n",
    "   \n",
    "    ti = 0       #tiempo inicial\n",
    "    tf = 10.2    #tiempo final\n",
    "    N=1000       #numero de paso\n",
    "    h=(tf-ti)/N  #tamaño del paso\n",
    "\n",
    "    #valores iniciales\n",
    "    v = 100 #m/s   #magnitud de la velocidad inicial\n",
    "    theta = (30*pi)/180 #grados   #angulo de disparo\n",
    "    vx0 = v*cos(theta)        #magnitud de la velocidad en dirrecion x\n",
    "    vy0 = v*sin(theta)        #magnitud de la velocidad en dirrecion y\n",
    "    x0=0               #posiciín inicial en x\n",
    "    y0=0               #posiciín inicial en y\n",
    "\n",
    "    tpoints = arange(ti, tf, h)    # lista que contiene la variable temporal\n",
    "    xpoints = []             # arreglo vacio que se llenara con las posiciones en x \n",
    "    ypoints = []             # arreglo vacio que se llenara con las posiciones en y\n",
    "\n",
    "    A = array([x0, vx0, y0, vy0], float)  #Arreglo que contiene lo valores iniciales y que se va llenando con los valores dados por el metodo RK4\n",
    "\n",
    "    for t in tpoints:              #Implementamos el metodo RK4 mediante un cliclo for\n",
    "        xpoints.append(A[0])       \n",
    "        ypoints.append(A[2])\n",
    "    \n",
    "        k1 = h * f(A, t, m)\n",
    "        k2 = h * f(A + 0.5 * k1, t + 0.5 * h, m)\n",
    "        k3 = h * f(A + 0.5 * k2, t + 0.5 * h, m)\n",
    "        k4 = h * f(A + k3, t + h, m)\n",
    "        A += (k1 + 2 * k2 + 2 * k3 + k4) / 6\n",
    "        \n",
    "    return xpoints, ypoints  # la funcion retorna los datos de las posiciones en x e y en dos arreglos dinstintos."
   ]
  },
  {
   "cell_type": "markdown",
   "metadata": {},
   "source": [
    "El alcanze horizontal para un tiro parabolico es:\n",
    "    \n",
    "\\begin{equation}\n",
    "x_{max}=\\frac{v_{0}^{2}sen(2\\theta)}{g}\n",
    "\\end{equation}\n",
    "\n",
    "\\begin{equation}\n",
    "x_{max}=\\frac{100^{2}sen(60)}{9.8})=884 [m]\n",
    "\\end{equation}\n",
    "    \n",
    "    "
   ]
  },
  {
   "cell_type": "code",
   "execution_count": 4,
   "metadata": {},
   "outputs": [],
   "source": [
    "X1,Y1 =funcion(m)  # Aplicamos la función para la masa de 1 kg   "
   ]
  },
  {
   "cell_type": "code",
   "execution_count": 5,
   "metadata": {},
   "outputs": [
    {
     "name": "stdout",
     "output_type": "stream",
     "text": [
      "Xmaximo =  478.97317735844234\n"
     ]
    }
   ],
   "source": [
    "lista1=[]     # definimos una lista vacia que guarda la posiciones en donde la posicion Y  vale 0\n",
    "for i in range (len(X1)):  # calculamos la cordenada donde Y es cero que nos indica el alcanze horizontal\n",
    "    if -0.09< Y1[i] <0.09:\n",
    "        lista1.append(i)\n",
    "        \n",
    "Xmax = (X1[max(lista1)])  # alcanze maximo horizontal\n",
    "print(\"Xmaximo = \", Xmax)"
   ]
  },
  {
   "cell_type": "code",
   "execution_count": 6,
   "metadata": {},
   "outputs": [
    {
     "data": {
      "image/png": "[encoded data removed]",
      "text/plain": [
       "<Figure size 432x288 with 1 Axes>"
      ]
     },
     "metadata": {
      "needs_background": "light"
     },
     "output_type": "display_data"
    }
   ],
   "source": [
    "plot(X1,Y1)\n",
    "plot(Xmax,Y1[max(lista1)], 'o')\n",
    "plot()\n",
    "xlabel('x[m]')\n",
    "ylabel('y[m]')\n",
    "title('Masa=1[kg]')\n",
    "grid()\n",
    "show()"
   ]
  },
  {
   "cell_type": "markdown",
   "metadata": {},
   "source": [
    "Como se observa en la grafica de Y contra X el alcanze horizontal es mucho menor 478[m] cuando se tiene en cuenta el coeficiente de arrastre, comparado con los 884[m] del tiro parabolico ideal. Ahora observaremos que sucede al variar la masa de la bala de cañon."
   ]
  },
  {
   "cell_type": "code",
   "execution_count": 7,
   "metadata": {},
   "outputs": [
    {
     "name": "stdout",
     "output_type": "stream",
     "text": [
      "Xmaximo =  393.7543219602294\n"
     ]
    }
   ],
   "source": [
    "# para una masa m = 2 kg\n",
    "X2,Y2 =funcion(2)\n",
    "lista2=[]\n",
    "for i in range (len(X2)):  \n",
    "    if -0.09< Y2[i] <0.09:\n",
    "        lista2.append(i)\n",
    "        \n",
    "Xmax2=(X2[max(lista2)])  # alcanze maximo horizontal\n",
    "print(\"Xmaximo = \", Xmax2)\n"
   ]
  },
  {
   "cell_type": "code",
   "execution_count": 8,
   "metadata": {},
   "outputs": [
    {
     "data": {
      "image/png": "[encoded data removed]",
      "text/plain": [
       "<Figure size 432x288 with 1 Axes>"
      ]
     },
     "metadata": {
      "needs_background": "light"
     },
     "output_type": "display_data"
    }
   ],
   "source": [
    "plot(X2,Y2)\n",
    "plot(Xmax2,Y2[max(lista2)], 'o')\n",
    "plot()\n",
    "xlabel('x[m]')\n",
    "ylabel('y[m]')\n",
    "title('Masa=2[kg]')\n",
    "grid()\n",
    "show()\n"
   ]
  },
  {
   "cell_type": "code",
   "execution_count": 9,
   "metadata": {},
   "outputs": [
    {
     "name": "stdout",
     "output_type": "stream",
     "text": [
      "Xmaximo =  303.521568589086\n"
     ]
    }
   ],
   "source": [
    "# para una masa m = 10 kg\n",
    "X3,Y3 =funcion(10)\n",
    "lista3 =[]\n",
    "\n",
    "for i in range (len(X3)):  \n",
    "    if -0.09< Y3[i] <0.09:\n",
    "        lista3.append(i)\n",
    "Xmax3=(X3[max(lista3)])  # alcanze maximo horizontal\n",
    "print(\"Xmaximo = \", Xmax3)"
   ]
  },
  {
   "cell_type": "code",
   "execution_count": 10,
   "metadata": {},
   "outputs": [
    {
     "data": {
      "image/png": "[encoded data removed]",
      "text/plain": [
       "<Figure size 432x288 with 1 Axes>"
      ]
     },
     "metadata": {
      "needs_background": "light"
     },
     "output_type": "display_data"
    }
   ],
   "source": [
    "plot(X3,Y3)\n",
    "plot(Xmax3,Y3[max(lista3)], 'o')\n",
    "plot()\n",
    "xlabel('x[m]')\n",
    "ylabel('y[m]')\n",
    "title('Masa=10[kg]')\n",
    "grid()\n",
    "show()"
   ]
  },
  {
   "cell_type": "markdown",
   "metadata": {},
   "source": [
    "Hasta el momento hemos escogido masas mayores para la bala, y se ha observado que el alcanze horizontal se ve reducido, ahora veremos que sucede si la masa del proyectir se reduce"
   ]
  },
  {
   "cell_type": "code",
   "execution_count": 11,
   "metadata": {},
   "outputs": [
    {
     "name": "stdout",
     "output_type": "stream",
     "text": [
      "Xmaximo =  679.5172282121707\n"
     ]
    }
   ],
   "source": [
    "# para una masa m = 0.25kg\n",
    "X4,Y4 =funcion(0.25)\n",
    "lista4 =[]\n",
    "\n",
    "for i in range (len(X4)):  \n",
    "    if -0.09< Y4[i] <0.09:\n",
    "        lista4.append(i)\n",
    "Xmax4=(X4[max(lista4)])  # alcanze maximo horizontal\n",
    "print(\"Xmaximo = \", Xmax4)"
   ]
  },
  {
   "cell_type": "code",
   "execution_count": 12,
   "metadata": {},
   "outputs": [
    {
     "data": {
      "image/png": "[encoded data removed]",
      "text/plain": [
       "<Figure size 432x288 with 1 Axes>"
      ]
     },
     "metadata": {
      "needs_background": "light"
     },
     "output_type": "display_data"
    }
   ],
   "source": [
    "plot(X4,Y4)\n",
    "plot(Xmax4,Y4[max(lista4)], 'o')\n",
    "plot()\n",
    "xlabel('x[m]')\n",
    "ylabel('y[m]')\n",
    "title('Masa=0.25[kg]')\n",
    "grid()\n",
    "show()"
   ]
  },
  {
   "cell_type": "markdown",
   "metadata": {},
   "source": [
    "**Como observamos  ahora el alcanze aumento. Finalmente podemos concluir que cuando se ignora la resistencia del aire, la distancia recorrida por un proyectil no depende de la masa del proyectil. Sin embargo,resulta mas aproximado a la vida real considerar que la masa ciertamente marca la diferencia. Como observamos en los las graficas y en los datos, el alcanze maximo va disminuyendo a medida que aumenta la masa del proyectil.**"
   ]
  },
  {
   "cell_type": "code",
   "execution_count": null,
   "metadata": {},
   "outputs": [],
   "source": []
  }
 ],
 "metadata": {
  "kernelspec": {
   "display_name": "Python 3",
   "language": "python",
   "name": "python3"
  },
  "language_info": {
   "codemirror_mode": {
    "name": "ipython",
    "version": 3
   },
   "file_extension": ".py",
   "mimetype": "text/x-python",
   "name": "python",
   "nbconvert_exporter": "python",
   "pygments_lexer": "ipython3",
   "version": "3.7.3"
  }
 },
 "nbformat": 4,
 "nbformat_minor": 2
}
