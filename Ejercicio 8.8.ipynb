{
 "cells": [
  {
   "cell_type": "markdown",
   "metadata": {},
   "source": [
    "**Basura espacial**\n",
    "\n",
    "La fuerza de atracción gravitacional entre dos masa puntuales  esta descrita por la siguiente ecuación:\n",
    "\n",
    "\\begin{equation}\n",
    "\\vec{F}=-\\frac{GmM}{r^{2}}\\hat{r}\n",
    "\\end{equation}\n",
    "\n",
    "Si en lugar de una masa puntual tenemos un cuerpo extenso debemos efectuar la suma vectorial de todas las fuerzas individuales. En este caso el cuerpo consiste en una distribucion lineal continua de materia (una barra). Así la expresion se transforma en:\n",
    "\n",
    "\\begin{equation}\n",
    "\\vec{F}=-Gm\\int_{v}^{}\\frac{\\rho dv}{r^{2}}\\hat{r} \n",
    "\\end{equation}\n",
    "\n",
    "la densidad lineal de la barra es:\n",
    "\n",
    "\\begin{equation}\n",
    "\\rho =\\frac{M}{l} \n",
    "\\end{equation}\n",
    "\n",
    "la barra  tiene una longitud L y se extiende en la direcion del eje z por tanto su diferencial dv sera un diferencial de longitud en z:\n",
    "\n",
    "\\begin{equation}\n",
    "dv=dz \n",
    "\\end{equation}\n",
    "\n",
    "El vector $ \\vec{r}  $ da información de la posición de la masa sobre la que se ejerce la fuerza respecto  un punto de la barra :\n",
    "\n",
    "\\begin{equation}\n",
    "\\vec{r}=x\\hat{i}+y\\hat{j}+z\\hat{k}\n",
    "\\end{equation}\n",
    "\n",
    "Entonces podemos escribir la fuerza como:\n",
    "\n",
    "\\begin{equation}\n",
    "\\vec{F}=-\\frac{GmM}{l}\\int_{-\\frac{l}{2}}^{\\frac{l}{2}}\\frac{dz}{(x^{2}+y^{2}+z^{2})^\\frac{3}{2}}\\vec{r}\n",
    "\\end{equation}\n",
    "\n",
    "\n",
    "Resolviendo la integral obtenemos:\n",
    "\n",
    "\\begin{equation}\n",
    "\\vec{F}=-\\frac{GmM}{x^{2}+y^{2}\\sqrt[]{x^{2}+y^{2}+\\frac{l^{2}}{4}}}\\vec{r}\n",
    "\\end{equation}\n",
    "\n",
    "\n",
    "El problema nos indica que la masa se mantiene en el plano xy  por lo tanto la componente en $\\hat{k}$ de $\\vec{r}$ sera 0\n",
    "\n",
    "\\begin{equation}\n",
    "\\vec{r}=x\\hat{i}+y\\hat{j}\n",
    "\\end{equation}\n",
    "\n",
    "\n",
    "\\begin{equation}\n",
    "r=\\sqrt[]{x^{2}+y^{2}}\n",
    "\\end{equation}\n",
    "\n",
    "por la tanto la fuerza es \n",
    "\n",
    "\\begin{equation}\n",
    "\\vec{F}=-\\frac{GmM}{x^{2}+y^{2}\\sqrt[]{x^{2}+y^{2}+\\frac{l^{2}}{4}}}(x\\hat{i}+y\\hat{j})\n",
    "\\end{equation}\n",
    "\n",
    "Ahora usando la le segunda ley de Newton podemos encontrar la aceceracion en cada componente:\n",
    "\n",
    "\\begin{equation}\n",
    "m\\vec{a}=\\sum \\vec{F}\n",
    "\\end{equation}\n",
    "\n",
    "\\begin{equation}\n",
    "a_{x}=\\frac{F_{x}}{m}=-\\frac{GM}{r^{2}\\sqrt[]{r^{2}+\\frac{l^{2}}{4}}}x\n",
    "\\end{equation}\n",
    "\n",
    "\\begin{equation}\n",
    "a_{y}=\\frac{F_{y}}{m}=-\\frac{GM}{r^{2}\\sqrt[]{r^{2}+\\frac{l^{2}}{4}}}y\n",
    "\\end{equation}\n",
    "\n",
    "Podemos usar la notación de Newton para transformar estas 2 ecuaciones de segundo orden en 4 de primer orden:\n",
    "\n",
    "\\begin{equation}\n",
    "\\dot{x}=v_{x}\n",
    "\\end{equation}\n",
    "\n",
    "\\begin{equation}\n",
    "\\ddot{x}=-\\frac{GM}{r^{2}\\sqrt[]{r^{2}+\\frac{l^{2}}{4}}}x\n",
    "\\end{equation}\n",
    "\n",
    "\\begin{equation}\n",
    "\\dot{y}=v_{y}\n",
    "\\end{equation}\n",
    "\n",
    "\\begin{equation}\n",
    "\\ddot{y}=-\\frac{GM}{r^{2}\\sqrt[]{r^{2}+\\frac{l^{2}}{4}}}y\n",
    "\\end{equation}"
   ]
  },
  {
   "cell_type": "code",
   "execution_count": 1,
   "metadata": {},
   "outputs": [
    {
     "data": {
      "text/html": [
       "<div id=\"glowscript\" class=\"glowscript\"></div>"
      ],
      "text/plain": [
       "<IPython.core.display.HTML object>"
      ]
     },
     "metadata": {},
     "output_type": "display_data"
    },
    {
     "data": {
      "application/javascript": [
       "if (typeof Jupyter !== \"undefined\") { window.__context = { glowscript_container: $(\"#glowscript\").removeAttr(\"id\")};}else{ element.textContent = ' ';}"
      ],
      "text/plain": [
       "<IPython.core.display.Javascript object>"
      ]
     },
     "metadata": {},
     "output_type": "display_data"
    }
   ],
   "source": [
    "from math import sin,pi,cos,sqrt\n",
    "from numpy import array,arange\n",
    "from pylab import plot, xlabel,ylabel, show,legend, title\n",
    "from vpython import cylinder, vector, sphere, rate, canvas"
   ]
  },
  {
   "cell_type": "code",
   "execution_count": 2,
   "metadata": {},
   "outputs": [],
   "source": [
    "#parametros constantes\n",
    "L = 2.0 # longitud de la barra\n",
    "G = 1.0 # constante de gravitacion asignada por el ejercicio\n",
    "M = 10.0 # masa de la basura\n",
    "\n",
    "def f(R,t):    #funcion que resive el arreglo R con los valores inciales y la variable temporal t\n",
    "    x = R[0]\n",
    "    \n",
    "    vx = R[1]\n",
    "    \n",
    "    y = R[2]\n",
    "    \n",
    "    vy = R[3]\n",
    "    \n",
    "    r= sqrt(x**2 + y**2)\n",
    "    \n",
    "    fvx = -G*M*x/((r**2)*((r**2) + (L**2)/4))\n",
    "                \n",
    "    fvy = -G*M*y/((r**2)*((r**2) + (L**2)/4))\n",
    "                \n",
    "    return array([vx, fvx, vy, fvy], float)  #retorna los valores de las velocidades y las aceleraciones"
   ]
  },
  {
   "cell_type": "code",
   "execution_count": 3,
   "metadata": {},
   "outputs": [],
   "source": [
    "ti = 0.0 #tiempo inicial\n",
    "tf = 10.0 # tiempo final\n",
    "\n",
    "N=1000 # numero pasos\n",
    "\n",
    "h=(tf-ti)/N #tamaño del paso\n",
    "\n",
    "x0 = 1.0  #posicion inicial en x del objeto que orbíta\n",
    "y0 = 0.0  #posicion inicial en y del objeto que orbíta\n",
    "vx0 = 0.0 #velocidad inicial en x del objeto que orbíta\n",
    "vy0 = 1.0 #velocidad inicial en y del objeto que orbíta\n",
    "\n",
    "tpoints = arange(ti, tf, h) # lista con el con los puntos de tiempo\n",
    "\n",
    "xpoints = [] # arrelgos vacios que se llenaran con los datos de las posiciones en x e y  hallados mediante el metodo RK4\n",
    "ypoints = []\n",
    "\n",
    "R = array([x0, vx0, y0, vy0], float) # arreglo con los valores iniciales qu\n",
    "\n",
    "for t in tpoints:   # metodo de RK4 implementado mediante un ciclo for\n",
    "    xpoints.append(R[0])\n",
    "    ypoints.append(R[2])\n",
    "    \n",
    "    k1 = h * f(R, t)\n",
    "    k2 = h * f(R + 0.5 * k1, t + 0.5 * h)\n",
    "    k3 = h * f(R + 0.5 * k2, t + 0.5 * h)\n",
    "    k4 = h * f(R + k3, t + h)\n",
    "    R += (k1 + 2 * k2 + 2 * k3 + k4) / 6"
   ]
  },
  {
   "cell_type": "code",
   "execution_count": 4,
   "metadata": {},
   "outputs": [
    {
     "data": {
      "image/png": "[encoded data removed]",
      "text/plain": [
       "<Figure size 432x288 with 1 Axes>"
      ]
     },
     "metadata": {
      "needs_background": "light"
     },
     "output_type": "display_data"
    }
   ],
   "source": [
    "#graficamos los puntos en x e y para observar la trayectoria orbital del objeto de masa m\n",
    "plot (xpoints, ypoints, 'r')\n",
    "xlabel('x')\n",
    "ylabel('y')\n",
    "title('trayectoria')\n",
    "show()"
   ]
  },
  {
   "cell_type": "code",
   "execution_count": 5,
   "metadata": {},
   "outputs": [
    {
     "data": {
      "text/html": [
       "<div id=\"glowscript\" class=\"glowscript\"></div>"
      ],
      "text/plain": [
       "<IPython.core.display.HTML object>"
      ]
     },
     "metadata": {},
     "output_type": "display_data"
    },
    {
     "data": {
      "application/javascript": [
       "if (typeof Jupyter !== \"undefined\") { window.__context = { glowscript_container: $(\"#glowscript\").removeAttr(\"id\")};}else{ element.textContent = ' ';}"
      ],
      "text/plain": [
       "<IPython.core.display.Javascript object>"
      ]
     },
     "metadata": {},
     "output_type": "display_data"
    }
   ],
   "source": [
    "scene = canvas()"
   ]
  },
  {
   "cell_type": "code",
   "execution_count": 6,
   "metadata": {},
   "outputs": [
    {
     "data": {
      "application/javascript": [
       "if (typeof Jupyter !== \"undefined\") {require.undef(\"nbextensions/vpython_libraries/glow.min\");}else{element.textContent = ' ';}"
      ],
      "text/plain": [
       "<IPython.core.display.Javascript object>"
      ]
     },
     "metadata": {},
     "output_type": "display_data"
    },
    {
     "data": {
      "application/javascript": [
       "if (typeof Jupyter !== \"undefined\") {require.undef(\"nbextensions/vpython_libraries/glowcomm\");}else{element.textContent = ' ';}"
      ],
      "text/plain": [
       "<IPython.core.display.Javascript object>"
      ]
     },
     "metadata": {},
     "output_type": "display_data"
    },
    {
     "data": {
      "application/javascript": [
       "if (typeof Jupyter !== \"undefined\") {require.undef(\"nbextensions/vpython_libraries/jquery-ui.custom.min\");}else{element.textContent = ' ';}"
      ],
      "text/plain": [
       "<IPython.core.display.Javascript object>"
      ]
     },
     "metadata": {},
     "output_type": "display_data"
    },
    {
     "data": {
      "application/javascript": [
       "if (typeof Jupyter !== \"undefined\") {require([\"nbextensions/vpython_libraries/glow.min\"], function(){console.log(\"GLOW LOADED\");});}else{element.textContent = ' ';}"
      ],
      "text/plain": [
       "<IPython.core.display.Javascript object>"
      ]
     },
     "metadata": {},
     "output_type": "display_data"
    },
    {
     "data": {
      "application/javascript": [
       "if (typeof Jupyter !== \"undefined\") {require([\"nbextensions/vpython_libraries/glowcomm\"], function(){console.log(\"GLOWCOMM LOADED\");});}else{element.textContent = ' ';}"
      ],
      "text/plain": [
       "<IPython.core.display.Javascript object>"
      ]
     },
     "metadata": {},
     "output_type": "display_data"
    },
    {
     "data": {
      "application/javascript": [
       "if (typeof Jupyter !== \"undefined\") {require([\"nbextensions/vpython_libraries/jquery-ui.custom.min\"], function(){console.log(\"JQUERY LOADED\");});}else{element.textContent = ' ';}"
      ],
      "text/plain": [
       "<IPython.core.display.Javascript object>"
      ]
     },
     "metadata": {},
     "output_type": "display_data"
    }
   ],
   "source": [
    "rod = cylinder(pos=vector(-L/2, 0, 0), axis=vector(L, 0, 0), radius=0.01)\n",
    "bob = sphere(pos=vector(0, 1, 0), radius=0.05)\n",
    "\n",
    "rod.red = 0.1\n",
    "\n",
    "for t in range(len(tpoints)):\n",
    "    rate(N/10)\n",
    "    bob.pos = vector(0, xpoints[t], ypoints[t]) "
   ]
  },
  {
   "cell_type": "markdown",
   "metadata": {},
   "source": [
    "Como se puede observar en la gráfica y en la animación, el objeto atraído por la barra no tiene una trayectoria orbital de tipo circular ni elíptico como el de los planetas, sino que posee un orbita que precesa.  Este resultado era esperado ya que sabemos por el teorema de Bertrand  que las únicas fuerzas centrales que producen órbitas cerradas estables  son\n",
    "\n",
    "\\begin{equation}\n",
    "\\vec{F}=-\\frac{k}{r^2}\n",
    "\\end{equation}\n",
    "\n",
    "\\begin{equation}\n",
    "\\vec{F}=-kr\n",
    "\\end{equation}\n",
    "\n",
    "En nuesto caso la fuerza no era de niguno de estos tipos y su orbita por tanto no sera cerrada ni estable y probablemente el objeto terminara colapsando contra la barra"
   ]
  },
  {
   "cell_type": "code",
   "execution_count": null,
   "metadata": {},
   "outputs": [],
   "source": []
  }
 ],
 "metadata": {
  "kernelspec": {
   "display_name": "Python 3",
   "language": "python",
   "name": "python3"
  },
  "language_info": {
   "codemirror_mode": {
    "name": "ipython",
    "version": 3
   },
   "file_extension": ".py",
   "mimetype": "text/x-python",
   "name": "python",
   "nbconvert_exporter": "python",
   "pygments_lexer": "ipython3",
   "version": "3.7.3"
  }
 },
 "nbformat": 4,
 "nbformat_minor": 2
}
